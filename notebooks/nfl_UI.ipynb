{
 "cells": [
  {
   "cell_type": "code",
   "execution_count": 12,
   "metadata": {},
   "outputs": [],
   "source": [
    "import pandas as pd\n",
    "pd.set_option('display.width',4000)\n",
    "pd.set_option('max_colwidth',4000)\n",
    "pd.set_option('max_rows',100)\n",
    "pd.set_option('max_columns',200)\n",
    "\n",
    "import numpy as np\n",
    "from pathlib import Path\n",
    "import sys\n",
    "import datetime as dt\n",
    "\n",
    "# import sklearn\n",
    "# import matplotlib\n",
    "\n",
    "import matplotlib.pyplot as plt\n",
    "import seaborn as sns\n",
    "\n",
    "%matplotlib inline\n",
    "sys.path.insert(1,\"../\") # add dir with helper files\n",
    "\n",
    "# save and load obj\n",
    "#from scripts.general_helpers import *\n"
   ]
  },
  {
   "cell_type": "code",
   "execution_count": 13,
   "metadata": {},
   "outputs": [],
   "source": [
    "\n",
    "CLEANED = Path(\"../cleaned\")\n",
    "five_all = pd.read_pickle(CLEANED/\"fivethirtyeight_all.xz\")"
   ]
  },
  {
   "cell_type": "code",
   "execution_count": 14,
   "metadata": {},
   "outputs": [],
   "source": [
    "CLEANED = Path(\"../cleaned\")\n",
    "five_all = pd.read_pickle(CLEANED/\"fivethirtyeight_all.xz\")\n",
    "five_all['game_date'] = pd.to_datetime(five_all['game_date'])\n",
    "five_pre = pd.read_pickle(CLEANED/\"fivethirtyeight_pre.xz\")\n",
    "\n",
    "five_pre['game_date'] = pd.to_datetime(five_pre['game_date'])\n",
    "games = pd.read_pickle(CLEANED/\"games_basic_all.xz\")\n",
    "pbp_all = pd.read_pickle(CLEANED/\"pbp_all.xz\")\n",
    "\n",
    "pbp_all['game_date'] = pd.to_datetime(pbp_all['game_date'])\n",
    "#a `timeout` is `play_type` == `no_play`\n",
    "\n",
    "pbp_pre = pd.read_pickle(CLEANED/\"pbp_pre.xz\")\n",
    "\n",
    "pbp_pre['game_date'] = pd.to_datetime(pbp_pre['game_date'])\n",
    "# can join to games\n",
    "# has end of game / season info\n",
    "\n",
    "fastr_all = pd.read_pickle(CLEANED/\"fastr_all.xz\")\n",
    "\n",
    "fastr_all['game_date'] = pd.to_datetime(fastr_all['game_date']).dt.date\n",
    "fastr_all['game_date'] = pd.to_datetime(fastr_all['game_date'])\n",
    "fastr_pre = pd.read_pickle(CLEANED/\"fastr_pre.xz\")\n",
    "\n",
    "fastr_pre['game_date'] = pd.to_datetime(fastr_pre['game_date']).dt.date\n",
    "fastr_pre['game_date'] = pd.to_datetime(fastr_pre['game_date'])\n",
    "fastr_standings = pd.read_pickle(CLEANED/\"fastr_standings_all.xz\")\n",
    "DATA = Path(\"../data\")\n",
    "  \n"
   ]
  },
  {
   "cell_type": "code",
   "execution_count": 15,
   "metadata": {},
   "outputs": [],
   "source": [
    "team_colors = pd.read_csv(DATA/\"teamcolors.csv\")\n",
    "merged_pbp_fastr = pbp_pre.merge(fastr_pre,\n",
    "                                 how=\"outer\",\n",
    "                                 left_on=[\"game_id\",\"home_team\",\"away_team\"],#\"game_date\"],\n",
    "                                 right_on=[\"game_id\",\"home_team\",\"away_team\"])#,#\"game_date\"],\n",
    "                                 #indicator=True)\n",
    "#\n",
    "#merged_pbp_fastr.rename(columns={\"game_date_y\":\"game_date\"},inplace=True)\n",
    "\n",
    "#merged_pbp_fastr[\"game_date\"] = pd.to_datetime(merged_pbp_fastr[\"game_date\"]).dt.date\n",
    "#merged_pbp_fastr[\"game_date\"] = pd.to_datetime(merged_pbp_fastr[\"game_date\"])\n",
    "#fd_df = merged_pbp_fastr[merged_pbp_fastr[\"down\"]== 4]"
   ]
  },
  {
   "cell_type": "code",
   "execution_count": 16,
   "metadata": {},
   "outputs": [],
   "source": [
    "merged_pbp_fastr = merged_pbp_fastr.drop(columns=[\"game_date_x\"])"
   ]
  },
  {
   "cell_type": "code",
   "execution_count": 9,
   "metadata": {},
   "outputs": [],
   "source": [
    "merged_pbp_fastr.rename(columns={\"game_date_y\":\"game_date\"},inplace=True)\n",
    "merged_pbp_fastr[\"game_date\"] = pd.to_datetime(merged_pbp_fastr[\"game_date\"]).dt.date\n",
    "merged_pbp_fastr[\"game_date\"] = pd.to_datetime(merged_pbp_fastr[\"game_date\"])"
   ]
  },
  {
   "cell_type": "code",
   "execution_count": 38,
   "metadata": {},
   "outputs": [],
   "source": [
    "DATA = Path(\"../data\")\n",
    "  \n",
    "team_colors = pd.read_csv(DATA/\"teamcolors.csv\")"
   ]
  },
  {
   "cell_type": "code",
   "execution_count": 39,
   "metadata": {},
   "outputs": [
    {
     "data": {
      "text/html": [
       "<div>\n",
       "<style scoped>\n",
       "    .dataframe tbody tr th:only-of-type {\n",
       "        vertical-align: middle;\n",
       "    }\n",
       "\n",
       "    .dataframe tbody tr th {\n",
       "        vertical-align: top;\n",
       "    }\n",
       "\n",
       "    .dataframe thead th {\n",
       "        text-align: right;\n",
       "    }\n",
       "</style>\n",
       "<table border=\"1\" class=\"dataframe\">\n",
       "  <thead>\n",
       "    <tr style=\"text-align: right;\">\n",
       "      <th></th>\n",
       "      <th>team</th>\n",
       "      <th>color</th>\n",
       "      <th>color2</th>\n",
       "      <th>color3</th>\n",
       "      <th>color4</th>\n",
       "    </tr>\n",
       "  </thead>\n",
       "  <tbody>\n",
       "    <tr>\n",
       "      <th>0</th>\n",
       "      <td>ARI</td>\n",
       "      <td>#97233f</td>\n",
       "      <td>#000000</td>\n",
       "      <td>#ffb612</td>\n",
       "      <td>#a5acaf</td>\n",
       "    </tr>\n",
       "    <tr>\n",
       "      <th>1</th>\n",
       "      <td>ARZ</td>\n",
       "      <td>#97233f</td>\n",
       "      <td>#000000</td>\n",
       "      <td>#ffb612</td>\n",
       "      <td>#a5acaf</td>\n",
       "    </tr>\n",
       "    <tr>\n",
       "      <th>2</th>\n",
       "      <td>ATL</td>\n",
       "      <td>#a71930</td>\n",
       "      <td>#000000</td>\n",
       "      <td>#a5acaf</td>\n",
       "      <td>#a30d2d</td>\n",
       "    </tr>\n",
       "    <tr>\n",
       "      <th>3</th>\n",
       "      <td>BAL</td>\n",
       "      <td>#241773</td>\n",
       "      <td>#000000</td>\n",
       "      <td>#9e7c0c</td>\n",
       "      <td>#c60c30</td>\n",
       "    </tr>\n",
       "    <tr>\n",
       "      <th>4</th>\n",
       "      <td>BLT</td>\n",
       "      <td>#241773</td>\n",
       "      <td>#000000</td>\n",
       "      <td>#9e7c0c</td>\n",
       "      <td>#c60c30</td>\n",
       "    </tr>\n",
       "    <tr>\n",
       "      <th>5</th>\n",
       "      <td>BUF</td>\n",
       "      <td>#00338d</td>\n",
       "      <td>#c60c30</td>\n",
       "      <td>#0c2e82</td>\n",
       "      <td>#d50a0a</td>\n",
       "    </tr>\n",
       "    <tr>\n",
       "      <th>6</th>\n",
       "      <td>CAR</td>\n",
       "      <td>#0085ca</td>\n",
       "      <td>#000000</td>\n",
       "      <td>#bfc0bf</td>\n",
       "      <td>#0085ca</td>\n",
       "    </tr>\n",
       "    <tr>\n",
       "      <th>7</th>\n",
       "      <td>CHI</td>\n",
       "      <td>#0b162a</td>\n",
       "      <td>#c83803</td>\n",
       "      <td>#0b162a</td>\n",
       "      <td>#c83803</td>\n",
       "    </tr>\n",
       "    <tr>\n",
       "      <th>8</th>\n",
       "      <td>CIN</td>\n",
       "      <td>#000000</td>\n",
       "      <td>#fb4f14</td>\n",
       "      <td>#000000</td>\n",
       "      <td>#d32f1e</td>\n",
       "    </tr>\n",
       "    <tr>\n",
       "      <th>9</th>\n",
       "      <td>CLE</td>\n",
       "      <td>#fb4f14</td>\n",
       "      <td>#22150c</td>\n",
       "      <td>#a5acaf</td>\n",
       "      <td>#d32f1e</td>\n",
       "    </tr>\n",
       "    <tr>\n",
       "      <th>10</th>\n",
       "      <td>CLV</td>\n",
       "      <td>#fb4f14</td>\n",
       "      <td>#22150c</td>\n",
       "      <td>#a5acaf</td>\n",
       "      <td>#d32f1e</td>\n",
       "    </tr>\n",
       "    <tr>\n",
       "      <th>11</th>\n",
       "      <td>DAL</td>\n",
       "      <td>#002244</td>\n",
       "      <td>#b0b7bc</td>\n",
       "      <td>#acc0c6</td>\n",
       "      <td>#a5acaf</td>\n",
       "    </tr>\n",
       "    <tr>\n",
       "      <th>12</th>\n",
       "      <td>DEN</td>\n",
       "      <td>#002244</td>\n",
       "      <td>#fb4f14</td>\n",
       "      <td>#00234c</td>\n",
       "      <td>#ff5200</td>\n",
       "    </tr>\n",
       "    <tr>\n",
       "      <th>13</th>\n",
       "      <td>DET</td>\n",
       "      <td>#005a8b</td>\n",
       "      <td>#b0b7bc</td>\n",
       "      <td>#000000</td>\n",
       "      <td>#004e89</td>\n",
       "    </tr>\n",
       "    <tr>\n",
       "      <th>14</th>\n",
       "      <td>GB</td>\n",
       "      <td>#203731</td>\n",
       "      <td>#ffb612</td>\n",
       "      <td>#1c2d25</td>\n",
       "      <td>#eead1e</td>\n",
       "    </tr>\n",
       "    <tr>\n",
       "      <th>15</th>\n",
       "      <td>HOU</td>\n",
       "      <td>#03202f</td>\n",
       "      <td>#a71930</td>\n",
       "      <td>#00071c</td>\n",
       "      <td>#a30d2d</td>\n",
       "    </tr>\n",
       "    <tr>\n",
       "      <th>16</th>\n",
       "      <td>HST</td>\n",
       "      <td>#03202f</td>\n",
       "      <td>#a71930</td>\n",
       "      <td>#00071c</td>\n",
       "      <td>#a30d2d</td>\n",
       "    </tr>\n",
       "    <tr>\n",
       "      <th>17</th>\n",
       "      <td>IND</td>\n",
       "      <td>#002c5f</td>\n",
       "      <td>#a5acaf</td>\n",
       "      <td>#013369</td>\n",
       "      <td>#9ba1a2</td>\n",
       "    </tr>\n",
       "    <tr>\n",
       "      <th>18</th>\n",
       "      <td>JAX</td>\n",
       "      <td>#000000</td>\n",
       "      <td>#006778</td>\n",
       "      <td>#9f792c</td>\n",
       "      <td>#d7a22a</td>\n",
       "    </tr>\n",
       "    <tr>\n",
       "      <th>19</th>\n",
       "      <td>KC</td>\n",
       "      <td>#e31837</td>\n",
       "      <td>#ffb612</td>\n",
       "      <td>#000000</td>\n",
       "      <td>#e31837</td>\n",
       "    </tr>\n",
       "    <tr>\n",
       "      <th>20</th>\n",
       "      <td>LA</td>\n",
       "      <td>#002244</td>\n",
       "      <td>#b3995d</td>\n",
       "      <td>#001532</td>\n",
       "      <td>#af925d</td>\n",
       "    </tr>\n",
       "    <tr>\n",
       "      <th>21</th>\n",
       "      <td>LAC</td>\n",
       "      <td>#002244</td>\n",
       "      <td>#0073cf</td>\n",
       "      <td>#ffb612</td>\n",
       "      <td>#001532</td>\n",
       "    </tr>\n",
       "    <tr>\n",
       "      <th>22</th>\n",
       "      <td>LAR</td>\n",
       "      <td>#002244</td>\n",
       "      <td>#b3995d</td>\n",
       "      <td>#001532</td>\n",
       "      <td>#af925d</td>\n",
       "    </tr>\n",
       "    <tr>\n",
       "      <th>23</th>\n",
       "      <td>LV</td>\n",
       "      <td>#a5acaf</td>\n",
       "      <td>#000000</td>\n",
       "      <td>#a6aeb0</td>\n",
       "      <td>#000000</td>\n",
       "    </tr>\n",
       "    <tr>\n",
       "      <th>24</th>\n",
       "      <td>MIA</td>\n",
       "      <td>#008e97</td>\n",
       "      <td>#f58220</td>\n",
       "      <td>#005778</td>\n",
       "      <td>#008e97</td>\n",
       "    </tr>\n",
       "    <tr>\n",
       "      <th>25</th>\n",
       "      <td>MIN</td>\n",
       "      <td>#4f2683</td>\n",
       "      <td>#ffc62f</td>\n",
       "      <td>#e9bf9b</td>\n",
       "      <td>#000000</td>\n",
       "    </tr>\n",
       "    <tr>\n",
       "      <th>26</th>\n",
       "      <td>NE</td>\n",
       "      <td>#002244</td>\n",
       "      <td>#c60c30</td>\n",
       "      <td>#b0b7bc</td>\n",
       "      <td>#001532</td>\n",
       "    </tr>\n",
       "    <tr>\n",
       "      <th>27</th>\n",
       "      <td>NO</td>\n",
       "      <td>#9f8958</td>\n",
       "      <td>#000000</td>\n",
       "      <td>#9f8958</td>\n",
       "      <td>#000000</td>\n",
       "    </tr>\n",
       "    <tr>\n",
       "      <th>28</th>\n",
       "      <td>NYG</td>\n",
       "      <td>#0b2265</td>\n",
       "      <td>#a71930</td>\n",
       "      <td>#a5acaf</td>\n",
       "      <td>#012352</td>\n",
       "    </tr>\n",
       "    <tr>\n",
       "      <th>29</th>\n",
       "      <td>NYJ</td>\n",
       "      <td>#203731</td>\n",
       "      <td>#1c2d25</td>\n",
       "      <td>NaN</td>\n",
       "      <td>NaN</td>\n",
       "    </tr>\n",
       "    <tr>\n",
       "      <th>30</th>\n",
       "      <td>OAK</td>\n",
       "      <td>#a5acaf</td>\n",
       "      <td>#000000</td>\n",
       "      <td>#a6aeb0</td>\n",
       "      <td>#000000</td>\n",
       "    </tr>\n",
       "    <tr>\n",
       "      <th>31</th>\n",
       "      <td>PHI</td>\n",
       "      <td>#004953</td>\n",
       "      <td>#a5acaf</td>\n",
       "      <td>#acc0c6</td>\n",
       "      <td>#000000</td>\n",
       "    </tr>\n",
       "    <tr>\n",
       "      <th>32</th>\n",
       "      <td>PIT</td>\n",
       "      <td>#000000</td>\n",
       "      <td>#ffb612</td>\n",
       "      <td>#c60c30</td>\n",
       "      <td>#00539b</td>\n",
       "    </tr>\n",
       "    <tr>\n",
       "      <th>33</th>\n",
       "      <td>SD</td>\n",
       "      <td>#002244</td>\n",
       "      <td>#0073cf</td>\n",
       "      <td>#ffb612</td>\n",
       "      <td>#001532</td>\n",
       "    </tr>\n",
       "    <tr>\n",
       "      <th>34</th>\n",
       "      <td>SF</td>\n",
       "      <td>#aa0000</td>\n",
       "      <td>#b3995d</td>\n",
       "      <td>#000000</td>\n",
       "      <td>#a5acaf</td>\n",
       "    </tr>\n",
       "    <tr>\n",
       "      <th>35</th>\n",
       "      <td>SEA</td>\n",
       "      <td>#002244</td>\n",
       "      <td>#69be28</td>\n",
       "      <td>#a5acaf</td>\n",
       "      <td>#001532</td>\n",
       "    </tr>\n",
       "    <tr>\n",
       "      <th>36</th>\n",
       "      <td>STL</td>\n",
       "      <td>#002244</td>\n",
       "      <td>#b3995d</td>\n",
       "      <td>#001532</td>\n",
       "      <td>#af925d</td>\n",
       "    </tr>\n",
       "    <tr>\n",
       "      <th>37</th>\n",
       "      <td>TB</td>\n",
       "      <td>#d50a0a</td>\n",
       "      <td>#34302b</td>\n",
       "      <td>#000000</td>\n",
       "      <td>#ff7900</td>\n",
       "    </tr>\n",
       "    <tr>\n",
       "      <th>38</th>\n",
       "      <td>TEN</td>\n",
       "      <td>#002244</td>\n",
       "      <td>#4b92db</td>\n",
       "      <td>#c60c30</td>\n",
       "      <td>#a5acaf</td>\n",
       "    </tr>\n",
       "    <tr>\n",
       "      <th>39</th>\n",
       "      <td>WAS</td>\n",
       "      <td>#773141</td>\n",
       "      <td>#ffb612</td>\n",
       "      <td>#000000</td>\n",
       "      <td>#5b2b2f</td>\n",
       "    </tr>\n",
       "  </tbody>\n",
       "</table>\n",
       "</div>"
      ],
      "text/plain": [
       "   team    color   color2   color3   color4\n",
       "0   ARI  #97233f  #000000  #ffb612  #a5acaf\n",
       "1   ARZ  #97233f  #000000  #ffb612  #a5acaf\n",
       "2   ATL  #a71930  #000000  #a5acaf  #a30d2d\n",
       "3   BAL  #241773  #000000  #9e7c0c  #c60c30\n",
       "4   BLT  #241773  #000000  #9e7c0c  #c60c30\n",
       "5   BUF  #00338d  #c60c30  #0c2e82  #d50a0a\n",
       "6   CAR  #0085ca  #000000  #bfc0bf  #0085ca\n",
       "7   CHI  #0b162a  #c83803  #0b162a  #c83803\n",
       "8   CIN  #000000  #fb4f14  #000000  #d32f1e\n",
       "9   CLE  #fb4f14  #22150c  #a5acaf  #d32f1e\n",
       "10  CLV  #fb4f14  #22150c  #a5acaf  #d32f1e\n",
       "11  DAL  #002244  #b0b7bc  #acc0c6  #a5acaf\n",
       "12  DEN  #002244  #fb4f14  #00234c  #ff5200\n",
       "13  DET  #005a8b  #b0b7bc  #000000  #004e89\n",
       "14   GB  #203731  #ffb612  #1c2d25  #eead1e\n",
       "15  HOU  #03202f  #a71930  #00071c  #a30d2d\n",
       "16  HST  #03202f  #a71930  #00071c  #a30d2d\n",
       "17  IND  #002c5f  #a5acaf  #013369  #9ba1a2\n",
       "18  JAX  #000000  #006778  #9f792c  #d7a22a\n",
       "19   KC  #e31837  #ffb612  #000000  #e31837\n",
       "20   LA  #002244  #b3995d  #001532  #af925d\n",
       "21  LAC  #002244  #0073cf  #ffb612  #001532\n",
       "22  LAR  #002244  #b3995d  #001532  #af925d\n",
       "23   LV  #a5acaf  #000000  #a6aeb0  #000000\n",
       "24  MIA  #008e97  #f58220  #005778  #008e97\n",
       "25  MIN  #4f2683  #ffc62f  #e9bf9b  #000000\n",
       "26   NE  #002244  #c60c30  #b0b7bc  #001532\n",
       "27   NO  #9f8958  #000000  #9f8958  #000000\n",
       "28  NYG  #0b2265  #a71930  #a5acaf  #012352\n",
       "29  NYJ  #203731  #1c2d25      NaN      NaN\n",
       "30  OAK  #a5acaf  #000000  #a6aeb0  #000000\n",
       "31  PHI  #004953  #a5acaf  #acc0c6  #000000\n",
       "32  PIT  #000000  #ffb612  #c60c30  #00539b\n",
       "33   SD  #002244  #0073cf  #ffb612  #001532\n",
       "34   SF  #aa0000  #b3995d  #000000  #a5acaf\n",
       "35  SEA  #002244  #69be28  #a5acaf  #001532\n",
       "36  STL  #002244  #b3995d  #001532  #af925d\n",
       "37   TB  #d50a0a  #34302b  #000000  #ff7900\n",
       "38  TEN  #002244  #4b92db  #c60c30  #a5acaf\n",
       "39  WAS  #773141  #ffb612  #000000  #5b2b2f"
      ]
     },
     "execution_count": 39,
     "metadata": {},
     "output_type": "execute_result"
    }
   ],
   "source": [
    "team_colors"
   ]
  },
  {
   "cell_type": "code",
   "execution_count": 26,
   "metadata": {},
   "outputs": [],
   "source": [
    "merged_pbp_fastr = pbp_pre.merge(fastr_pre,\n",
    "                                 how=\"outer\",\n",
    "                                 left_on=[\"game_id\",\"home_team\",\"away_team\"],#\"game_date\"],\n",
    "                                 right_on=[\"game_id\",\"home_team\",\"away_team\"])#,#\"game_date\"],\n",
    "                                 #indicator=True)\n",
    "merged_pbp_fastr = merged_pbp_fastr.drop(columns=[\"game_date_x\"])\n",
    "merged_pbp_fastr.rename(columns={\"game_date_y\":\"game_date\"},inplace=True)\n",
    "\n",
    "merged_pbp_fastr[\"game_date\"] = pd.to_datetime(merged_pbp_fastr[\"game_date\"]).dt.date\n",
    "merged_pbp_fastr[\"game_date\"] = pd.to_datetime(merged_pbp_fastr[\"game_date\"])\n"
   ]
  },
  {
   "cell_type": "code",
   "execution_count": 8,
   "metadata": {},
   "outputs": [],
   "source": [
    "#merged_pbp_fastr \n",
    "from pathlib import Path  \n",
    "filepath = Path('..data/data_team.csv')  \n",
    "filepath.parent.mkdir(parents=True, exist_ok=True)  \n",
    "merged_pbp_fastr.to_csv(filepath) "
   ]
  },
  {
   "cell_type": "code",
   "execution_count": 27,
   "metadata": {},
   "outputs": [
    {
     "data": {
      "text/plain": [
       "Index(['game_id', 'play_id', 'play_type', 'home_team', 'away_team', 'posteam', 'defteam', 'game_half', 'game_seconds_remaining', 'drive', 'sp', 'qtr', 'down', 'goal_to_go', 'ydstogo', 'ydsnet', 'yardline_100', 'side_of_field', 'posteam_timeouts_remaining', 'defteam_timeouts_remaining', 'posteam_score', 'defteam_score', 'score_differential', 'no_score_prob', 'opp_fg_prob', 'opp_safety_prob', 'opp_td_prob', 'fg_prob', 'safety_prob', 'td_prob', 'extra_point_prob', 'two_point_conversion_prob', 'old_game_id', 'season', 'game_type', 'week', 'game_date', 'weekday', 'gametime', 'location', 'away_rest', 'home_rest', 'away_moneyline', 'home_moneyline', 'spread_line', 'away_spread_odds', 'home_spread_odds', 'total_line', 'under_odds', 'over_odds', 'div_game', 'roof', 'surface', 'temp', 'wind', 'away_qb_id', 'home_qb_id', 'away_qb_name', 'home_qb_name', 'away_coach', 'home_coach', 'referee', 'stadium_id', 'stadium'], dtype='object')"
      ]
     },
     "execution_count": 27,
     "metadata": {},
     "output_type": "execute_result"
    }
   ],
   "source": [
    "merged_pbp_fastr.columns"
   ]
  },
  {
   "cell_type": "code",
   "execution_count": 28,
   "metadata": {},
   "outputs": [],
   "source": [
    "\n",
    "fd_df = merged_pbp_fastr[merged_pbp_fastr[\"down\"]== 4]\n",
    "\n"
   ]
  },
  {
   "cell_type": "code",
   "execution_count": 18,
   "metadata": {},
   "outputs": [],
   "source": [
    "teams = list(fd_df[\"home_team\"].unique())\n",
    "teams.sort()\n"
   ]
  },
  {
   "cell_type": "code",
   "execution_count": 19,
   "metadata": {},
   "outputs": [
    {
     "data": {
      "text/plain": [
       "array(['TEN', 'MIA', 'KC', 'PHI', 'DEN', 'MIN', 'NYJ', 'JAX', 'DET',\n",
       "       'DAL', 'SF', 'WAS', 'LAR', 'CHI', 'BUF', 'LAC', 'CAR', 'CIN',\n",
       "       'ARI', 'OAK', 'NE', 'NO', 'HOU', 'TB', 'SEA', 'PIT', 'CLE', 'BAL',\n",
       "       'NYG', 'IND', 'ATL', 'GB'], dtype=object)"
      ]
     },
     "execution_count": 19,
     "metadata": {},
     "output_type": "execute_result"
    }
   ],
   "source": [
    "fd_df['away_team'].unique()"
   ]
  },
  {
   "cell_type": "code",
   "execution_count": 20,
   "metadata": {},
   "outputs": [],
   "source": [
    "atl = fd_df[fd_df[\"home_team\"]== 'ATL']"
   ]
  },
  {
   "cell_type": "code",
   "execution_count": 21,
   "metadata": {},
   "outputs": [
    {
     "data": {
      "text/plain": [
       "2    <p style=\"font-family:sans-serif; color:#a71930; font-size: 60px;\">#a71930 </p>\n",
       "Name: color, dtype: object"
      ]
     },
     "execution_count": 21,
     "metadata": {},
     "output_type": "execute_result"
    }
   ],
   "source": [
    "a = team_colors[team_colors['team']=='ATL']\n",
    "b = a['color'].astype(str)\n",
    "score_pos = '<p style=\"font-family:sans-serif; color:' + b + '; font-size: 60px;\">'+b+' </p>'\n",
    "score_pos"
   ]
  },
  {
   "cell_type": "code",
   "execution_count": 33,
   "metadata": {},
   "outputs": [
    {
     "data": {
      "text/plain": [
       "'0.0 0.0 0.0 0.0 7.0 7.0 0.0 10.0 0.0 10.0 16.0 0.0 16.0 0.0 0.0 0.0 3.0 3.0 10.0 21.0 21.0 28.0 20.0 28.0 0.0 0.0 0.0 0.0 0.0 7.0 7.0 7.0 14.0 14.0 14.0 14.0 0.0 0.0 7.0 0.0 13.0 0.0 3.0 20.0 3.0 23.0 17.0 30.0 17.0 0.0 0.0 0.0 0.0 0.0 10.0 7.0 7.0 10.0 10.0 10.0 17.0 17.0 13.0 17.0 13.0 17.0 13.0 13.0 17.0 13.0 0.0 0.0 0.0 10.0 0.0 10.0 0.0 10.0 0.0 13.0 0.0 0.0 13.0 0.0 0.0 0.0 33.0 nan 33.0 0.0 0.0 3.0 6.0 6.0 23.0 23.0 26.0 23.0 0.0 0.0 7.0 0.0 7.0 0.0 10.0 10.0 0.0 10.0 0.0 10.0 0.0 23.0 3.0 23.0 30.0 0.0 7.0 7.0 7.0 7.0 7.0 7.0 31.0 31.0 7.0 34.0 7.0 41.0 0.0 0.0 0.0 13.0 13.0 7.0 7.0 7.0 10.0 13.0 13.0 13.0 13.0 13.0 0.0 7.0 0.0 7.0 3.0 3.0 17.0 3.0 24.0 nan 39.0 0.0 0.0 14.0 17.0 14.0 14.0 24.0 nan 27.0 27.0 21.0 0.0 0.0 0.0 0.0 0.0 7.0 7.0 10.0 13.0 7.0 20.0 20.0 0.0 0.0 3.0 0.0 3.0 3.0 3.0 10.0 10.0 10.0 17.0 10.0 10.0 10.0 17.0 0.0 0.0 0.0 0.0 0.0 0.0 0.0 10.0 7.0 10.0 10.0 7.0 10.0 7.0 13.0 13.0 0.0 0.0 0.0 13.0 13.0 0.0 13.0 0.0 0.0 20.0 3.0 30.0 3.0 30.0 3.0 30.0 0.0 0.0 0.0 7.0 7.0 7.0 14.0 21.0 24.0 21.0 31.0 31.0 35.0 0.0 14.0 3.0 6.0 14.0 6.0 14.0 14.0 14.0 22.0 22.0 0.0 0.0 0.0 14.0 14.0 17.0 14.0 17.0 17.0 0.0 0.0 3.0 3.0 3.0 3.0 6.0 6.0 10.0 10.0 6.0 17.0 13.0 20.0 13.0 23.0 23.0 20.0 23.0 23.0 23.0 0.0 7.0 0.0 10.0 0.0 13.0 3.0 20.0 20.0 23.0 10.0 23.0 10.0 0.0 0.0 0.0 7.0 0.0 0.0 14.0 0.0 17.0 17.0 7.0 7.0 17.0 14.0 14.0 0.0 7.0 7.0 0.0 10.0 0.0 17.0 0.0 24.0 0.0 0.0 40.0 40.0 6.0 40.0 40.0 0.0 21.0 0.0 7.0 41.0 7.0 41.0 22.0 41.0 7.0 10.0 0.0 10.0 10.0 0.0 0.0 20.0 7.0 7.0 27.0 27.0 14.0 27.0 14.0 0.0 7.0 7.0 10.0 14.0 14.0 24.0 21.0 24.0 24.0 28.0 27.0 28.0 28.0 0.0 0.0 0.0 3.0 7.0 13.0 7.0 13.0 7.0 10.0 13.0 13.0 13.0 13.0 0.0 0.0 0.0 3.0 0.0 6.0 3.0 6.0 6.0 6.0 6.0 6.0 6.0 13.0 16.0 0.0 7.0 0.0 10.0 10.0 10.0 0.0 13.0 9.0 13.0 16.0 16.0 15.0 16.0 16.0 15.0 19.0 19.0 19.0 7.0 0.0 7.0 0.0 0.0 14.0 14.0 17.0 7.0 17.0 10.0 17.0 17.0 13.0 20.0 0.0 0.0 14.0 14.0 0.0 17.0 0.0 0.0 24.0 0.0 0.0 0.0 0.0 3.0 3.0 3.0 10.0 3.0 13.0 3.0 13.0 3.0 10.0 22.0 10.0 22.0 10.0 22.0 17.0 0.0 7.0 0.0 0.0 0.0 20.0 3.0 3.0 23.0 3.0 23.0 3.0 23.0 23.0 17.0 17.0 0.0 0.0 3.0 3.0 7.0 10.0 10.0 10.0 10.0 10.0 27.0 20.0 30.0 23.0 0.0 0.0 7.0 7.0 17.0 17.0 17.0 14.0 27.0 21.0 21.0 0.0 0.0 6.0 0.0 13.0 7.0 7.0 10.0 10.0 23.0 17.0 17.0 17.0 17.0 17.0 30.0 20.0 0.0 0.0 0.0 3.0 0.0 3.0 0.0 3.0 13.0 3.0 23.0 3.0 33.0 0.0 7.0 10.0 14.0 13.0 13.0 14.0 13.0 14.0 17.0 13.0 17.0 14.0 14.0 17.0 17.0 14.0 20.0 17.0 17.0 20.0 24.0 20.0 24.0 24.0 24.0 0.0 7.0 0.0 7.0 7.0 10.0 13.0 17.0 20.0 17.0 17.0 20.0 20.0 20.0 0.0 0.0 3.0 20.0 17.0 24.0 27.0 31.0 34.0 nan 0.0 0.0 0.0 0.0 33.0 0.0 0.0 0.0 0.0 54.0 54.0 0.0 0.0 0.0 3.0 0.0 3.0 3.0 10.0 13.0 10.0 13.0 13.0 13.0 27.0 13.0 27.0 13.0 0.0 0.0 14.0 0.0 0.0 21.0 10.0 21.0 21.0 0.0 0.0 0.0 7.0 10.0 7.0 13.0 14.0 14.0 21.0 21.0 0.0 0.0 7.0 0.0 17.0 17.0 6.0 9.0 20.0 9.0 23.0 9.0 26.0 26.0 26.0 26.0 0.0 0.0 3.0 0.0 12.0 12.0 7.0 19.0 10.0 26.0 20.0 0.0 0.0 0.0 10.0 3.0 10.0 3.0 3.0 23.0 3.0 26.0 3.0 3.0 32.0 3.0 0.0 0.0 0.0 0.0 3.0 nan 0.0 0.0 0.0 10.0 3.0 10.0 20.0 20.0 23.0 24.0 26.0 0.0 0.0 0.0 0.0 14.0 0.0 27.0 0.0 0.0 0.0 41.0 41.0 41.0 21.0 0.0 0.0 0.0 0.0 0.0 7.0 3.0 3.0 3.0 7.0 3.0 3.0 7.0 13.0 12.0 0.0 0.0 0.0 0.0 3.0 13.0 20.0 10.0 10.0 20.0 20.0 20.0 20.0 0.0 0.0 0.0 0.0 14.0 7.0 21.0 21.0 14.0 21.0 20.0 21.0 20.0 21.0 0.0 0.0 0.0 7.0 7.0 3.0 10.0 3.0 3.0 7.0 7.0 nan 7.0 7.0 7.0 10.0 10.0 14.0 13.0 17.0 0.0 0.0 10.0 14.0 17.0 14.0 17.0 17.0 0.0 0.0 0.0 3.0 3.0 10.0 10.0 10.0 13.0 13.0 31.0 21.0 31.0 21.0 31.0 24.0 0.0 0.0 0.0 14.0 6.0 17.0 9.0 9.0 9.0 31.0 34.0 25.0 41.0 0.0 3.0 7.0 10.0 26.0 17.0 26.0 17.0 26.0 27.0 27.0 29.0 0.0 0.0 10.0 14.0 13.0 24.0 24.0 26.0 32.0 0.0 7.0 7.0 10.0 10.0 10.0 10.0 17.0 13.0 13.0 24.0 19.0 7.0 10.0 6.0 13.0 13.0 19.0 16.0 26.0 26.0 0.0 0.0 7.0 28.0 13.0 28.0 13.0 13.0 38.0 13.0 38.0 0.0 0.0 0.0 10.0 10.0 35.0 13.0 35.0 13.0 38.0 38.0 38.0 38.0 25.0 25.0 7.0 7.0 7.0 14.0 7.0 17.0 7.0 30.0 10.0 10.0 33.0 33.0 23.0 0.0 0.0 0.0 0.0 0.0 3.0 7.0 7.0 13.0 13.0 16.0 19.0 17.0 17.0 0.0 0.0 0.0 10.0 0.0 0.0 17.0 17.0 14.0 14.0 17.0 17.0 0.0 0.0 7.0 7.0 7.0 3.0 7.0 7.0 7.0 24.0 7.0 27.0 27.0 0.0 0.0 3.0 3.0 3.0 3.0 3.0 27.0 20.0 20.0 0.0 0.0 0.0 0.0 3.0 3.0 7.0 6.0 6.0 7.0 9.0 9.0 9.0 14.0 9.0 0.0 0.0 3.0 3.0 3.0 17.0 10.0 17.0 17.0 17.0 17.0 0.0 7.0 0.0 7.0 0.0 7.0 0.0 7.0 0.0 7.0 7.0 10.0 7.0 13.0 7.0 16.0 10.0 19.0 19.0 0.0 0.0 3.0 3.0 3.0 10.0 10.0 10.0 24.0 31.0 31.0 0.0 7.0 7.0 7.0 7.0 7.0 10.0 13.0 14.0 16.0 21.0 23.0 29.0 37.0 7.0 28.0 24.0 28.0 27.0 28.0 33.0 33.0 31.0 31.0 6.0 6.0 21.0 24.0 24.0 13.0 24.0 31.0 0.0 0.0 0.0 0.0 0.0 0.0 0.0 7.0 3.0 3.0 10.0 6.0 20.0 0.0 0.0 0.0 3.0 3.0 3.0 3.0 3.0 6.0 9.0 19.0 19.0 0.0 3.0 7.0 3.0 7.0 7.0 9.0 7.0 9.0 10.0 9.0 13.0 9.0 16.0 25.0 0.0 0.0 7.0 6.0 7.0 16.0 7.0 19.0 7.0 nan 25.0 7.0 7.0 7.0 39.0 7.0 7.0 39.0 0.0 0.0 3.0 3.0 3.0 0.0 3.0 3.0 6.0 6.0 12.0 17.0 17.0 20.0 20.0 0.0 0.0 14.0 7.0 14.0 7.0 7.0 7.0 24.0 10.0 24.0 10.0 24.0 10.0 10.0 24.0 0.0 0.0 3.0 0.0 3.0 3.0 10.0 10.0 3.0 13.0 13.0 3.0 3.0 27.0 27.0 27.0 30.0 30.0 0.0 0.0 3.0 0.0 0.0 0.0 0.0 24.0 8.0 24.0 24.0 24.0 27.0 0.0 3.0 3.0 3.0 7.0 10.0 10.0 10.0 25.0 10.0 25.0 13.0 13.0 28.0 16.0 28.0 28.0 16.0 16.0 0.0 0.0 7.0 0.0 7.0 7.0 6.0 6.0 17.0 9.0 17.0 20.0 20.0 23.0 15.0 18.0 0.0 0.0 0.0 0.0 0.0 3.0 3.0 10.0 10.0 27.0 10.0 30.0 30.0 10.0 0.0 14.0 14.0 0.0 0.0 0.0 14.0 3.0 14.0 3.0 17.0 3.0 3.0 24.0 12.0 12.0 12.0'"
      ]
     },
     "execution_count": 33,
     "metadata": {},
     "output_type": "execute_result"
    }
   ],
   "source": [
    "a = atl['posteam_score'].astype(str)\n",
    "' '.join(a)\n"
   ]
  },
  {
   "cell_type": "code",
   "execution_count": 29,
   "metadata": {},
   "outputs": [
    {
     "data": {
      "text/plain": [
       "Index(['game_id', 'play_id', 'play_type', 'home_team', 'away_team', 'posteam', 'defteam', 'game_half', 'game_seconds_remaining', 'drive', 'sp', 'qtr', 'down', 'goal_to_go', 'ydstogo', 'ydsnet', 'yardline_100', 'side_of_field', 'posteam_timeouts_remaining', 'defteam_timeouts_remaining', 'posteam_score', 'defteam_score', 'score_differential', 'no_score_prob', 'opp_fg_prob', 'opp_safety_prob', 'opp_td_prob', 'fg_prob', 'safety_prob', 'td_prob', 'extra_point_prob', 'two_point_conversion_prob', 'old_game_id', 'season', 'game_type', 'week', 'game_date', 'weekday', 'gametime', 'location', 'away_rest', 'home_rest', 'away_moneyline', 'home_moneyline', 'spread_line', 'away_spread_odds', 'home_spread_odds', 'total_line', 'under_odds', 'over_odds', 'div_game', 'roof', 'surface', 'temp', 'wind', 'away_qb_id', 'home_qb_id', 'away_qb_name', 'home_qb_name', 'away_coach', 'home_coach', 'referee', 'stadium_id', 'stadium'], dtype='object')"
      ]
     },
     "execution_count": 29,
     "metadata": {},
     "output_type": "execute_result"
    }
   ],
   "source": [
    "fd_df.columns"
   ]
  },
  {
   "cell_type": "code",
   "execution_count": 30,
   "metadata": {},
   "outputs": [],
   "source": [
    "\n",
    "keep_columns = ['game_id','season','home_team','away_team','down','game_date','game_half','game_seconds_remaining', 'play_type', 'ydstogo','yardline_100', 'posteam', 'qtr','side_of_field', 'defteam', 'side_of_field','posteam_score','defteam_score','roof','surface','temp','wind','stadium']"
   ]
  },
  {
   "cell_type": "code",
   "execution_count": 31,
   "metadata": {},
   "outputs": [],
   "source": [
    "small_data=fd_df[keep_columns].head(100000)\n",
    "from pathlib import Path  \n",
    "filepath = Path('data/small_data_team.csv')  \n",
    "filepath.parent.mkdir(parents=True, exist_ok=True)  \n",
    "small_data.to_csv(filepath) "
   ]
  },
  {
   "cell_type": "code",
   "execution_count": 32,
   "metadata": {},
   "outputs": [],
   "source": [
    "pbp_all_test = pbp_all.head(10000)\n",
    "from pathlib import Path\n",
    "filepath = Path('data/all_data.csv')\n",
    "filepath.parent.mkdir(parents=True, exist_ok=True)\n",
    "pbp_all_test.to_csv(filepath)\n"
   ]
  },
  {
   "cell_type": "code",
   "execution_count": 62,
   "metadata": {},
   "outputs": [],
   "source": [
    "team_df = pbp_all_test[pbp_all_test[\"home_team\"]=='ATL']\n",
    "team_df\n",
    "away_df = team_df[team_df[\"away_team\"]=='MIA']\n",
    "away_df\n",
    "game_df = away_df[away_df[\"game_date\"]=='2009-09-13']\n",
    "game_df\n",
    "game_id = list(away_df['game_id'].unique().astype(str))\n",
    "game_id\n",
    "#game_id = '2009091300'\n",
    "new_df = pbp_all_test['game_id']== game_id[0]#'2009091300'\n"
   ]
  },
  {
   "cell_type": "code",
   "execution_count": 70,
   "metadata": {},
   "outputs": [
    {
     "data": {
      "text/plain": [
       "['ATL', 'MIA']"
      ]
     },
     "execution_count": 70,
     "metadata": {},
     "output_type": "execute_result"
    }
   ],
   "source": [
    "team1 = list(game_df['home_team'].unique())\n",
    "team2 = list(game_df['away_team'].unique())\n",
    "game_teams = [team1[0],team2[0]]\n",
    "game_teams"
   ]
  },
  {
   "cell_type": "code",
   "execution_count": 72,
   "metadata": {},
   "outputs": [
    {
     "data": {
      "image/png": "[encoded data removed]",
      "text/plain": [
       "<Figure size 640x480 with 1 Axes>"
      ]
     },
     "metadata": {},
     "output_type": "display_data"
    }
   ],
   "source": [
    "cols_graphic = ['home_wp','away_wp','game_seconds_remaining']\n",
    "colors = []\n",
    "for t in game_teams:\n",
    "    colors.append(team_colors[team_colors[\"team\"]==t]['color4'].tolist()[0])\n",
    "graph_data = game_df[cols_graphic].set_index(\"game_seconds_remaining\").sort_index(ascending=False)\n",
    "graph_data.plot(color=colors)\n",
    "plt.xlabel(\"Time Remaining (seconds)\")\n",
    "plt.ylabel(\"Win Probability\")\n",
    "plt.title(f\"Win Probability Chart\\n{teams[0]} vs {teams[1]}\")\n",
    "plt.gca().invert_xaxis()"
   ]
  },
  {
   "cell_type": "code",
   "execution_count": 83,
   "metadata": {},
   "outputs": [
    {
     "data": {
      "text/plain": [
       "<AxesSubplot:xlabel='game_seconds_remaining'>"
      ]
     },
     "execution_count": 83,
     "metadata": {},
     "output_type": "execute_result"
    },
    {
     "data": {
      "image/png": "[encoded data removed]",
      "text/plain": [
       "<Figure size 640x480 with 1 Axes>"
      ]
     },
     "metadata": {},
     "output_type": "display_data"
    }
   ],
   "source": [
    "sns.lineplot(data=graph_data)"
   ]
  },
  {
   "cell_type": "code",
   "execution_count": 77,
   "metadata": {},
   "outputs": [],
   "source": [
    "import matplotlib.pyplot as plt\n",
    "import matplotlib.patches as patches"
   ]
  },
  {
   "cell_type": "code",
   "execution_count": 78,
   "metadata": {},
   "outputs": [],
   "source": [
    "def create_football_field(linenumbers=True,\n",
    "                          endzones=True,\n",
    "                          highlight_line=False,\n",
    "                          highlight_line_number=50,\n",
    "                          highlighted_name='Line of Scrimmage',\n",
    "                          fifty_is_los=False,\n",
    "                          figsize=(12, 6.33)):\n",
    "    \"\"\"\n",
    "    Function that plots the football field for viewing plays.\n",
    "    Allows for showing or hiding endzones.\n",
    "    \"\"\"\n",
    "    rect = patches.Rectangle((0, 0), 120, 53.3, linewidth=0.1,\n",
    "                             edgecolor='r', facecolor='darkgreen', zorder=0)\n",
    "\n",
    "    fig, ax = plt.subplots(1, figsize=figsize)\n",
    "    ax.add_patch(rect)\n",
    "\n",
    "    plt.plot([10, 10, 10, 20, 20, 30, 30, 40, 40, 50, 50, 60, 60, 70, 70, 80,\n",
    "              80, 90, 90, 100, 100, 110, 110, 120, 0, 0, 120, 120],\n",
    "             [0, 0, 53.3, 53.3, 0, 0, 53.3, 53.3, 0, 0, 53.3, 53.3, 0, 0, 53.3,\n",
    "              53.3, 0, 0, 53.3, 53.3, 0, 0, 53.3, 53.3, 53.3, 0, 0, 53.3],\n",
    "             color='white')\n",
    "    if fifty_is_los:\n",
    "        plt.plot([60, 60], [0, 53.3], color='gold')\n",
    "        plt.text(62, 50, '<- Player Yardline at Snap', color='gold')\n",
    "    # Endzones\n",
    "    if endzones:\n",
    "        ez1 = patches.Rectangle((0, 0), 10, 53.3,\n",
    "                                linewidth=0.1,\n",
    "                                edgecolor='r',\n",
    "                                facecolor='blue',\n",
    "                                alpha=0.2,\n",
    "                                zorder=0)\n",
    "        ez2 = patches.Rectangle((110, 0), 120, 53.3,\n",
    "                                linewidth=0.1,\n",
    "                                edgecolor='r',\n",
    "                                facecolor='blue',\n",
    "                                alpha=0.2,\n",
    "                                zorder=0)\n",
    "        ax.add_patch(ez1)\n",
    "        ax.add_patch(ez2)\n",
    "    plt.xlim(0, 120)\n",
    "    plt.ylim(-5, 58.3)\n",
    "    plt.axis('off')\n",
    "    if linenumbers:\n",
    "        for x in range(20, 110, 10):\n",
    "            numb = x\n",
    "            if x > 50:\n",
    "                numb = 120 - x\n",
    "            plt.text(x, 5, str(numb - 10),\n",
    "                     horizontalalignment='center',\n",
    "                     fontsize=20,  # fontname='Arial',\n",
    "                     color='white')\n",
    "            plt.text(x - 0.95, 53.3 - 5, str(numb - 10),\n",
    "                     horizontalalignment='center',\n",
    "                     fontsize=20,  # fontname='Arial',\n",
    "                     color='white', rotation=180)\n",
    "    if endzones:\n",
    "        hash_range = range(11, 110)\n",
    "    else:\n",
    "        hash_range = range(1, 120)\n",
    "\n",
    "    for x in hash_range:\n",
    "        ax.plot([x, x], [0.4, 0.7], color='white')\n",
    "        ax.plot([x, x], [53.0, 52.5], color='white')\n",
    "        ax.plot([x, x], [22.91, 23.57], color='white')\n",
    "        ax.plot([x, x], [29.73, 30.39], color='white')\n",
    "\n",
    "    if highlight_line:\n",
    "        hl = highlight_line_number + 10\n",
    "        plt.plot([hl, hl], [0, 53.3], color='yellow')\n",
    "        # plt.text(hl + 2, 50, '<- {}'.format(highlighted_name),\n",
    "        #          color='yellow')\n",
    "    return fig, ax"
   ]
  },
  {
   "cell_type": "code",
   "execution_count": 81,
   "metadata": {},
   "outputs": [
    {
     "data": {
      "image/png": "[encoded data removed]",
      "text/plain": [
       "<Figure size 1200x633 with 1 Axes>"
      ]
     },
     "metadata": {},
     "output_type": "display_data"
    }
   ],
   "source": [
    "yl=23\n",
    "fig, ax = create_football_field(highlight_line=True,\n",
    "                                highlight_line_number=yl)\n",
    "\n",
    "plt.xlim(0, 120)\n",
    "plt.ylim(0, 53.5)\n",
    "plt.vlines(x=80,\n",
    "           ymin=-5,\n",
    "           ymax=58.3,\n",
    "           colors=[\"yellow\",\"yellow\"],\n",
    "           linestyles=\"dashed\",\n",
    "           linewidth=2)#\"dashed\"\n",
    "\n",
    "plt.text(5, 25, teams[1],\n",
    "         size=\"x-large\", \n",
    "         rotation=90,\n",
    "         color=\"white\")\n",
    "\n",
    "plt.text(112, 25, teams[0],\n",
    "         size=\"x-large\", \n",
    "         rotation=270,\n",
    "         color=\"white\")\n",
    "\n",
    "#im = plt.imread('../images/100px-Dallas_Cowboys.svg.png', format=\"png\") # insert local path of the image.\n",
    "# https://matplotlib.org/stable/api/_as_gen/matplotlib.axes.Axes.set_anchor.html#matplotlib.axes.Axes.set_anchor\n",
    "#                  [left, bottom, width, height]\n",
    "# newax = fig.add_axes([0.8, 0.8, 0.2, 0.2], anchor='E')#, zorder=-1)\n",
    "#newax = fig.add_axes([0.56, 0.4, 0.2, 0.2], anchor='E')#, zorder=-1)\n",
    "#newax.imshow(im)\n",
    "#newax.axis('off')\n",
    "\n",
    "#im = plt.imread('../images/100px-Houston_Texans_logo.svg.png', format=\"png\") # insert local path of the image.\n",
    "#newax = fig.add_axes([0.25, 0.4, 0.2, 0.2], anchor='W')#, zorder=-1)\n",
    "#newax.imshow(im)\n",
    "#newax.axis('off')\n",
    "\n",
    "plt.show()"
   ]
  }
 ],
 "metadata": {
  "kernelspec": {
   "display_name": "Python 3",
   "language": "python",
   "name": "python3"
  },
  "language_info": {
   "codemirror_mode": {
    "name": "ipython",
    "version": 3
   },
   "file_extension": ".py",
   "mimetype": "text/x-python",
   "name": "python",
   "nbconvert_exporter": "python",
   "pygments_lexer": "ipython3",
   "version": "3.7.9"
  },
  "orig_nbformat": 4
 },
 "nbformat": 4,
 "nbformat_minor": 2
}
